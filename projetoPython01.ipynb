{
  "nbformat": 4,
  "nbformat_minor": 0,
  "metadata": {
    "colab": {
      "name": "PythonList00.ipynb",
      "provenance": [],
      "include_colab_link": true
    },
    "kernelspec": {
      "name": "python3",
      "display_name": "Python 3"
    },
    "language_info": {
      "name": "python"
    }
  },
  "cells": [
    {
      "cell_type": "markdown",
      "metadata": {
        "id": "view-in-github",
        "colab_type": "text"
      },
      "source": [
        "<a href=\"https://colab.research.google.com/github/flango42345/aa/blob/master/projetoPython01.ipynb\" target=\"_parent\"><img src=\"https://colab.research.google.com/assets/colab-badge.svg\" alt=\"Open In Colab\"/></a>"
      ]
    },
    {
      "cell_type": "markdown",
      "metadata": {
        "id": "schpZkvm45c6"
      },
      "source": [
        "**UNIVERSIDADE FEDERAL DO RIO GRANDE DO NORTE**\n",
        "\n",
        "**DEPARTAMENTO DE ENGENHARIA MECÂNICA**\n",
        "\n",
        "*ALGORITMOS E LINGUAGEM DE PROGRAMAÇÃO ORIENTADA A OBJETOS*\n",
        "\n",
        "*PROF. CARLOS MAGNO*"
      ]
    },
    {
      "cell_type": "markdown",
      "metadata": {
        "id": "hdBVFgBt5WGZ"
      },
      "source": [
        "\n",
        "\n",
        "**Projeto Python 01**\n",
        "\n",
        "Baseado nas funções fornecidas e nas tarefas relacionadas abaixo desenvolva o ambiente para competição.\n",
        "\n",
        "**a** - Utilizando a função grid como função de ajuda a codificação para construção de objetos. Construa seu carro para competição e o circuito de corrida conforme orientações em sala de aula.\n",
        "\n",
        "**b** - Após construir o carro e o circuito colete os pontos que os formam e os grave em um arquivo csv. Conforme instruções dadas em sala de aula.\n",
        "\n",
        "**c** - Utilizando a funcão lerDados construa a tupla responsável pelo shape do seu carro, ou seja a forma da sua tartaruga. Conforme instruções em sala de aula.\n",
        "\n",
        "**d** - Utilizando a função lerDados construa as tuplas que serão passadas a outra função criada por você para construir o circuito de corrida.\n",
        "\n",
        "\n",
        "**e** - Construa uma função que permita o movimento do carro pelo circuito com velocidade variável entre os trechos.\n",
        "\n",
        "**Veja abaixo as funções fornecidas**\n",
        "\n",
        "**Importante:** Estas funções devem ser transferidas para o ambiente alpoo.myed.com ( ou seja devem ser executadas no trinket, no menu Playground )\n",
        "\n",
        "Depois de executado o projeto o mesmo deve ser copiado para este arquivo e atualizados o github )\n"
      ]
    },
    {
      "cell_type": "code",
      "metadata": {
        "id": "BrUwYEB0YyEp"
      },
      "source": [
        "# FUNÇÃO GRID\n",
        "import turtle\n",
        "tela = turtle.Screen()\n",
        "tela.setup(500,500)\n",
        "tela.bgcolor(\"ghostwhite\")\n",
        "p = turtle.Turtle()\n",
        "\n",
        "def grid():\n",
        "  esp = 10\n",
        "\n",
        "  t = turtle.Turtle()\n",
        "  t.ht()\n",
        "  t.color(\"gray\")\n",
        "  t.speed(0)\n",
        "  t.penup()\n",
        "  t.goto(-200,-200)\n",
        "  t.pendown()\n",
        "  t.goto(-200,200)\n",
        "  t.penup()\n",
        "  for i in range(40):\n",
        "    t.penup()\n",
        "    t.goto(-200+esp,-200)\n",
        "    t.write(i+1, font=(\"Verdana\",5, \"normal\"))\n",
        "    t.pendown()\n",
        "    t.goto(-200+esp,200)\n",
        "    esp +=10\n",
        "\n",
        "  esp=10\n",
        "  t.penup()\n",
        "  t.goto(-200,200)\n",
        "  t.pendown()\n",
        "  t.goto(200,200)\n",
        "\n",
        "  for j in range(40):\n",
        "    t.penup()\n",
        "    t.goto(-200,200-esp)\n",
        "    t.write(j+1, font=(\"Verdana\",5, \"normal\"))\n",
        "    t.pendown()\n",
        "    t.goto(200,200-esp)\n",
        "    esp +=10\n"
      ],
      "execution_count": null,
      "outputs": []
    },
    {
      "cell_type": "code",
      "metadata": {
        "id": "QsDmTfsndEhX"
      },
      "source": [
        "# Função lerDados\n",
        "def lerDados(file):\n",
        "  linha = tuple()\n",
        "  linhas = []\n",
        "  myfile = open (file)\n",
        "  myline = myfile.readline ()\n",
        "  while myline:\n",
        "      mylist = myline.split(\",\")\n",
        "      for i in range(len(mylist)):\n",
        "          mylist[i] = int(mylist[i])\n",
        "          linha = tuple(mylist)\n",
        "      linhas.append(linha)\n",
        "      myline = myfile.readline ()\n",
        "  myfile.close ()\n",
        "  return linhas\n",
        ""
      ],
      "execution_count": null,
      "outputs": []
    },
    {
      "cell_type": "code",
      "metadata": {
        "id": "2Ln8tPrAHj5E"
      },
      "source": [
        "# main.py\n",
        "import funcoes as funcoes\n",
        "import turtle\n",
        "\n",
        "tela = turtle.Screen(1200,1200)\n",
        "tela.bgcolor(\"black\")\n",
        "\n",
        "\n",
        "f1 = turtle.Turtle()\n",
        "f1.pencolor(\"red\")\n",
        "cart = funcoes.lerDados(\"pista.csv\")\n",
        "ponto = funcoes.lerDados(\"f1.csv\")\n",
        "\n",
        "tela.register_shape(\"f1\",ponto)\n",
        "f1.shape(\"f1\")\n",
        "\n",
        "asfalto = turtle.Turtle()\n",
        "asfalto.pensize(40)\n",
        "asfalto.speed(0)\n",
        "asfalto.pencolor(\"white\")\n",
        "\n",
        "def pista(asfalto,carro):\n",
        "  for i in range(len(carro)):\n",
        "    x,y,r,a = cart[i]\n",
        "    asfalto.goto(x,y)\n",
        "    asfalto.circle(r,a)\n",
        "pista(asfalto,cart)\n",
        "\n",
        "\n",
        "def trajeto(f1,carreta):\n",
        "  for i in range(len(carreta)):\n",
        "    x,y,r,a = cart[i]\n",
        "    f1.pu()\n",
        "    f1.speed(2)\n",
        "    f1.goto(x,y)\n",
        "    f1.speed(1.5)\n",
        "    f1.circle(r,a)\n",
        "trajeto(f1,cart)"
      ],
      "execution_count": null,
      "outputs": []
    },
    {
      "cell_type": "code",
      "source": [
        "# funcoes.py\n",
        "\n",
        "# FUNÇÃO GRID\n",
        "import turtle\n",
        "tela = turtle.Screen()\n",
        "tela.setup(500,500)\n",
        "tela.bgcolor(\"ghostwhite\")\n",
        "p = turtle.Turtle()\n",
        "\n",
        "def grid():\n",
        "  esp = 10\n",
        "\n",
        "  t = turtle.Turtle()\n",
        "  t.ht()\n",
        "  t.color(\"gray\")\n",
        "  t.speed(0)\n",
        "  t.penup()\n",
        "  t.goto(-200,-200)\n",
        "  t.pendown()\n",
        "  t.goto(-200,200)\n",
        "  t.penup()\n",
        "  for i in range(40):\n",
        "    t.penup()\n",
        "    t.goto(-200+esp,-200)\n",
        "    t.write(i+1, font=(\"Verdana\",5, \"normal\"))\n",
        "    t.pendown()\n",
        "    t.goto(-200+esp,200)\n",
        "    esp +=10\n",
        "\n",
        "  esp=10\n",
        "  t.penup()\n",
        "  t.goto(-200,200)\n",
        "  t.pendown()\n",
        "  t.goto(200,200)\n",
        "\n",
        "  for j in range(40):\n",
        "    t.penup()\n",
        "    t.goto(-200,200-esp)\n",
        "    t.write(j+1, font=(\"Verdana\",5, \"normal\"))\n",
        "    t.pendown()\n",
        "    t.goto(200,200-esp)\n",
        "    esp +=10\n",
        "# Função lerDados\n",
        "def lerDados(file):\n",
        "  linha = tuple()\n",
        "  linhas = []\n",
        "  myfile = open (file)\n",
        "  myline = myfile.readline ()\n",
        "  while myline:\n",
        "      mylist = myline.split(\",\")\n",
        "      for i in range(len(mylist)):\n",
        "          mylist[i] = int(mylist[i])\n",
        "          linha = tuple(mylist)\n",
        "      linhas.append(linha)\n",
        "      myline = myfile.readline ()\n",
        "  myfile.close ()\n",
        "  return linhas\n",
        ""
      ],
      "metadata": {
        "id": "3WFd2n3cH2nC"
      },
      "execution_count": null,
      "outputs": []
    },
    {
      "cell_type": "code",
      "source": [
        "# f1.csv\n",
        "\n",
        "2,-2\n",
        "-2,-2\n",
        "-2,0\n",
        "-2,1\n",
        "-3,1\n",
        "-3,3\n",
        "-2,3\n",
        "-2,6\n",
        "-3,6\n",
        "-3,8\n",
        "-2,8\n",
        "-2,9\n",
        "-1,15\n",
        "1,15\n",
        "2,9\n",
        "2,8\n",
        "3,8\n",
        "3,6\n",
        "3,6\n",
        "2,3\n",
        "3,3\n",
        "3,1\n",
        "2,1\n",
        "2,0\n",
        "1,-1"
      ],
      "metadata": {
        "id": "rmpE2ms5H-zL"
      },
      "execution_count": null,
      "outputs": []
    },
    {
      "cell_type": "code",
      "source": [
        "# pista.csv\n",
        "\n",
        "0, 0, 70, 180\n",
        "-170, -100, -50, 150\n",
        "0,0,0,0"
      ],
      "metadata": {
        "id": "rgrzT4kYIE_y"
      },
      "execution_count": null,
      "outputs": []
    }
  ]
}